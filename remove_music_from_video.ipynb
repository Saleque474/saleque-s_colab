{
  "nbformat": 4,
  "nbformat_minor": 0,
  "metadata": {
    "colab": {
      "name": "remove_music_from_video.ipynb",
      "provenance": [],
      "authorship_tag": "ABX9TyOun2JWKB12/CyFBkhMEzbk",
      "include_colab_link": true
    },
    "kernelspec": {
      "name": "python3",
      "display_name": "Python 3"
    },
    "language_info": {
      "name": "python"
    }
  },
  "cells": [
    {
      "cell_type": "markdown",
      "metadata": {
        "id": "view-in-github",
        "colab_type": "text"
      },
      "source": [
        "<a href=\"https://colab.research.google.com/github/Saleque474/saleque-s_colab/blob/main/remove_music_from_video.ipynb\" target=\"_parent\"><img src=\"https://colab.research.google.com/assets/colab-badge.svg\" alt=\"Open In Colab\"/></a>"
      ]
    },
    {
      "cell_type": "code",
      "execution_count": null,
      "metadata": {
        "id": "pmmi1x9OfWv8"
      },
      "outputs": [],
      "source": [
        "pip install spleeter"
      ]
    },
    {
      "cell_type": "code",
      "source": [
        "pip install moviepy"
      ],
      "metadata": {
        "id": "8l1uYHw_gAEs"
      },
      "execution_count": null,
      "outputs": []
    },
    {
      "cell_type": "code",
      "source": [
        "video_name=\"video3.mp4\"\n",
        "from moviepy.editor import *\n",
        "!spleeter separate -o . -c mp3 $video_name\n",
        "clip:VideoFileClip = VideoFileClip(video_name)\n",
        "clip = clip.without_audio()\n",
        "audioclip = AudioFileClip(f\"{video_name[0:-4]}/vocals.mp3\")\n",
        "clip=clip.set_audio(audioclip)\n",
        "clip.write_videofile(f\"{video_name[0:-4]}_without_music.mp4\")\n"
      ],
      "metadata": {
        "id": "q_f65MXbgDp8"
      },
      "execution_count": null,
      "outputs": []
    },
    {
      "cell_type": "code",
      "source": [
        "!rm video3/vocals.mp3\n",
        "!rm video3/accompaniment.mp3"
      ],
      "metadata": {
        "id": "EKmUDgtY9N8f"
      },
      "execution_count": null,
      "outputs": []
    }
  ]
}